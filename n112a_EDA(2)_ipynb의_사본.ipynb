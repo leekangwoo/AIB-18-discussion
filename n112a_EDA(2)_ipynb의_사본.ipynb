{
  "nbformat": 4,
  "nbformat_minor": 0,
  "metadata": {
    "colab": {
      "provenance": [],
      "collapsed_sections": [
        "RQuOB0tgT9qY"
      ],
      "include_colab_link": true
    },
    "kernelspec": {
      "name": "python3",
      "display_name": "Python 3"
    },
    "language_info": {
      "name": "python"
    }
  },
  "cells": [
    {
      "cell_type": "markdown",
      "metadata": {
        "id": "view-in-github",
        "colab_type": "text"
      },
      "source": [
        "<a href=\"https://colab.research.google.com/github/leekangwoo/AIB-18-discussion/blob/main/n112a_EDA(2)_ipynb%EC%9D%98_%EC%82%AC%EB%B3%B8.ipynb\" target=\"_parent\"><img src=\"https://colab.research.google.com/assets/colab-badge.svg\" alt=\"Open In Colab\"/></a>"
      ]
    },
    {
      "cell_type": "markdown",
      "source": [
        "<img src='https://i.imgur.com/RDAD11M.png' width = '200' align = 'right'>\n",
        "\n",
        "## *DATA SCIENCE / SECTION 1 / SPRINT 1 / NOTE 2*\n",
        "\n",
        "---\n",
        "\n",
        "# 📝 Assignment"
      ],
      "metadata": {
        "id": "d7JHSVEHCpcC"
      }
    },
    {
      "cell_type": "markdown",
      "source": [
        "# **🌱 기본 과제**"
      ],
      "metadata": {
        "id": "gF3WrEhGTmhd"
      }
    },
    {
      "cell_type": "markdown",
      "source": [
        "## **Part 1. EDA**"
      ],
      "metadata": {
        "id": "0xvc9Qe-BK7r"
      }
    },
    {
      "cell_type": "markdown",
      "source": [
        "### **1-1. 데이터 불러오기**\n",
        "\n",
        "아래의 Tip을 활용하여 Seaborn 라이브러리에 내장되어 있는 Titanic 데이터셋을 불러옵니다.\n",
        "\n",
        "> **💡 Tip**\n",
        "> - import seaborn as sns\n",
        "> - df = sns.[load_dataset](https://seaborn.pydata.org/generated/seaborn.load_dataset.html)(\"titanic\")"
      ],
      "metadata": {
        "id": "WCMfVy_KvArI"
      }
    },
    {
      "cell_type": "code",
      "source": [
        "import seaborn as sns\n",
        "df = sns.load_dataset(\"titanic\")"
      ],
      "metadata": {
        "id": "mTg9fjmmvkGi"
      },
      "execution_count": null,
      "outputs": []
    },
    {
      "cell_type": "markdown",
      "source": [
        "### **1-2. 데이터 분석**"
      ],
      "metadata": {
        "id": "PNaoxwlo7Zlv"
      }
    },
    {
      "cell_type": "markdown",
      "source": [
        "##### **Q1. 생존자와 사망자 중 평균 나이가 더 높은 그룹을 쓰세요.**\n",
        "\n",
        "- `Survived` column의 1은 생존자, 0은 사망자를 의미합니다.\n",
        "- **`.groupby()`**를 사용하여 생존 여부별 평균 나이를 구하세요."
      ],
      "metadata": {
        "id": "dRFex4Giv_y3"
      }
    },
    {
      "cell_type": "code",
      "source": [
        "df.groupby('survived', as_index=False)['age'].mean()"
      ],
      "metadata": {
        "id": "2ehTYn1uyCwX",
        "colab": {
          "base_uri": "https://localhost:8080/",
          "height": 112
        },
        "outputId": "d4589be0-6848-4235-c871-13dc8240a224"
      },
      "execution_count": null,
      "outputs": [
        {
          "output_type": "execute_result",
          "data": {
            "text/plain": [
              "   survived        age\n",
              "0         0  30.626179\n",
              "1         1  28.343690"
            ],
            "text/html": [
              "\n",
              "  <div id=\"df-1a674a1e-bcb1-46e3-bf3f-18b8c26ce851\">\n",
              "    <div class=\"colab-df-container\">\n",
              "      <div>\n",
              "<style scoped>\n",
              "    .dataframe tbody tr th:only-of-type {\n",
              "        vertical-align: middle;\n",
              "    }\n",
              "\n",
              "    .dataframe tbody tr th {\n",
              "        vertical-align: top;\n",
              "    }\n",
              "\n",
              "    .dataframe thead th {\n",
              "        text-align: right;\n",
              "    }\n",
              "</style>\n",
              "<table border=\"1\" class=\"dataframe\">\n",
              "  <thead>\n",
              "    <tr style=\"text-align: right;\">\n",
              "      <th></th>\n",
              "      <th>survived</th>\n",
              "      <th>age</th>\n",
              "    </tr>\n",
              "  </thead>\n",
              "  <tbody>\n",
              "    <tr>\n",
              "      <th>0</th>\n",
              "      <td>0</td>\n",
              "      <td>30.626179</td>\n",
              "    </tr>\n",
              "    <tr>\n",
              "      <th>1</th>\n",
              "      <td>1</td>\n",
              "      <td>28.343690</td>\n",
              "    </tr>\n",
              "  </tbody>\n",
              "</table>\n",
              "</div>\n",
              "      <button class=\"colab-df-convert\" onclick=\"convertToInteractive('df-1a674a1e-bcb1-46e3-bf3f-18b8c26ce851')\"\n",
              "              title=\"Convert this dataframe to an interactive table.\"\n",
              "              style=\"display:none;\">\n",
              "        \n",
              "  <svg xmlns=\"http://www.w3.org/2000/svg\" height=\"24px\"viewBox=\"0 0 24 24\"\n",
              "       width=\"24px\">\n",
              "    <path d=\"M0 0h24v24H0V0z\" fill=\"none\"/>\n",
              "    <path d=\"M18.56 5.44l.94 2.06.94-2.06 2.06-.94-2.06-.94-.94-2.06-.94 2.06-2.06.94zm-11 1L8.5 8.5l.94-2.06 2.06-.94-2.06-.94L8.5 2.5l-.94 2.06-2.06.94zm10 10l.94 2.06.94-2.06 2.06-.94-2.06-.94-.94-2.06-.94 2.06-2.06.94z\"/><path d=\"M17.41 7.96l-1.37-1.37c-.4-.4-.92-.59-1.43-.59-.52 0-1.04.2-1.43.59L10.3 9.45l-7.72 7.72c-.78.78-.78 2.05 0 2.83L4 21.41c.39.39.9.59 1.41.59.51 0 1.02-.2 1.41-.59l7.78-7.78 2.81-2.81c.8-.78.8-2.07 0-2.86zM5.41 20L4 18.59l7.72-7.72 1.47 1.35L5.41 20z\"/>\n",
              "  </svg>\n",
              "      </button>\n",
              "      \n",
              "  <style>\n",
              "    .colab-df-container {\n",
              "      display:flex;\n",
              "      flex-wrap:wrap;\n",
              "      gap: 12px;\n",
              "    }\n",
              "\n",
              "    .colab-df-convert {\n",
              "      background-color: #E8F0FE;\n",
              "      border: none;\n",
              "      border-radius: 50%;\n",
              "      cursor: pointer;\n",
              "      display: none;\n",
              "      fill: #1967D2;\n",
              "      height: 32px;\n",
              "      padding: 0 0 0 0;\n",
              "      width: 32px;\n",
              "    }\n",
              "\n",
              "    .colab-df-convert:hover {\n",
              "      background-color: #E2EBFA;\n",
              "      box-shadow: 0px 1px 2px rgba(60, 64, 67, 0.3), 0px 1px 3px 1px rgba(60, 64, 67, 0.15);\n",
              "      fill: #174EA6;\n",
              "    }\n",
              "\n",
              "    [theme=dark] .colab-df-convert {\n",
              "      background-color: #3B4455;\n",
              "      fill: #D2E3FC;\n",
              "    }\n",
              "\n",
              "    [theme=dark] .colab-df-convert:hover {\n",
              "      background-color: #434B5C;\n",
              "      box-shadow: 0px 1px 3px 1px rgba(0, 0, 0, 0.15);\n",
              "      filter: drop-shadow(0px 1px 2px rgba(0, 0, 0, 0.3));\n",
              "      fill: #FFFFFF;\n",
              "    }\n",
              "  </style>\n",
              "\n",
              "      <script>\n",
              "        const buttonEl =\n",
              "          document.querySelector('#df-1a674a1e-bcb1-46e3-bf3f-18b8c26ce851 button.colab-df-convert');\n",
              "        buttonEl.style.display =\n",
              "          google.colab.kernel.accessAllowed ? 'block' : 'none';\n",
              "\n",
              "        async function convertToInteractive(key) {\n",
              "          const element = document.querySelector('#df-1a674a1e-bcb1-46e3-bf3f-18b8c26ce851');\n",
              "          const dataTable =\n",
              "            await google.colab.kernel.invokeFunction('convertToInteractive',\n",
              "                                                     [key], {});\n",
              "          if (!dataTable) return;\n",
              "\n",
              "          const docLinkHtml = 'Like what you see? Visit the ' +\n",
              "            '<a target=\"_blank\" href=https://colab.research.google.com/notebooks/data_table.ipynb>data table notebook</a>'\n",
              "            + ' to learn more about interactive tables.';\n",
              "          element.innerHTML = '';\n",
              "          dataTable['output_type'] = 'display_data';\n",
              "          await google.colab.output.renderOutput(dataTable, element);\n",
              "          const docLink = document.createElement('div');\n",
              "          docLink.innerHTML = docLinkHtml;\n",
              "          element.appendChild(docLink);\n",
              "        }\n",
              "      </script>\n",
              "    </div>\n",
              "  </div>\n",
              "  "
            ]
          },
          "metadata": {},
          "execution_count": 7
        }
      ]
    },
    {
      "cell_type": "markdown",
      "source": [
        "##### **Q2. 사망자 중 남자의 좌석 등급의 중앙값을 쓰세요.**\n",
        "\n",
        "- **`.groupby()`**와 [`.median()`](https://pandas.pydata.org/docs/reference/api/pandas.DataFrame.median.html)을 사용하여 생존 여부와 성별에 따른 좌석 등급의 중앙값을 구하세요. \n",
        "  - 결과는 데이터프레임 형태로 나타내세요. "
      ],
      "metadata": {
        "id": "Pas8NFIJPynX"
      }
    },
    {
      "cell_type": "code",
      "source": [
        "# df[['sex', 'survived', 'pclass']]\n",
        "death_male = df.query('survived == 0')\n",
        "\n",
        "death_male.groupby('sex', as_index=False)['pclass'].median()"
      ],
      "metadata": {
        "id": "8Iq7-vQB_Psw",
        "colab": {
          "base_uri": "https://localhost:8080/",
          "height": 112
        },
        "outputId": "57214407-4ad4-4321-bc68-33d2a421fb75"
      },
      "execution_count": null,
      "outputs": [
        {
          "output_type": "execute_result",
          "data": {
            "text/plain": [
              "      sex  pclass\n",
              "0  female     3.0\n",
              "1    male     3.0"
            ],
            "text/html": [
              "\n",
              "  <div id=\"df-a6b6d96b-c464-4f16-b1f6-fe6703bbeb0f\">\n",
              "    <div class=\"colab-df-container\">\n",
              "      <div>\n",
              "<style scoped>\n",
              "    .dataframe tbody tr th:only-of-type {\n",
              "        vertical-align: middle;\n",
              "    }\n",
              "\n",
              "    .dataframe tbody tr th {\n",
              "        vertical-align: top;\n",
              "    }\n",
              "\n",
              "    .dataframe thead th {\n",
              "        text-align: right;\n",
              "    }\n",
              "</style>\n",
              "<table border=\"1\" class=\"dataframe\">\n",
              "  <thead>\n",
              "    <tr style=\"text-align: right;\">\n",
              "      <th></th>\n",
              "      <th>sex</th>\n",
              "      <th>pclass</th>\n",
              "    </tr>\n",
              "  </thead>\n",
              "  <tbody>\n",
              "    <tr>\n",
              "      <th>0</th>\n",
              "      <td>female</td>\n",
              "      <td>3.0</td>\n",
              "    </tr>\n",
              "    <tr>\n",
              "      <th>1</th>\n",
              "      <td>male</td>\n",
              "      <td>3.0</td>\n",
              "    </tr>\n",
              "  </tbody>\n",
              "</table>\n",
              "</div>\n",
              "      <button class=\"colab-df-convert\" onclick=\"convertToInteractive('df-a6b6d96b-c464-4f16-b1f6-fe6703bbeb0f')\"\n",
              "              title=\"Convert this dataframe to an interactive table.\"\n",
              "              style=\"display:none;\">\n",
              "        \n",
              "  <svg xmlns=\"http://www.w3.org/2000/svg\" height=\"24px\"viewBox=\"0 0 24 24\"\n",
              "       width=\"24px\">\n",
              "    <path d=\"M0 0h24v24H0V0z\" fill=\"none\"/>\n",
              "    <path d=\"M18.56 5.44l.94 2.06.94-2.06 2.06-.94-2.06-.94-.94-2.06-.94 2.06-2.06.94zm-11 1L8.5 8.5l.94-2.06 2.06-.94-2.06-.94L8.5 2.5l-.94 2.06-2.06.94zm10 10l.94 2.06.94-2.06 2.06-.94-2.06-.94-.94-2.06-.94 2.06-2.06.94z\"/><path d=\"M17.41 7.96l-1.37-1.37c-.4-.4-.92-.59-1.43-.59-.52 0-1.04.2-1.43.59L10.3 9.45l-7.72 7.72c-.78.78-.78 2.05 0 2.83L4 21.41c.39.39.9.59 1.41.59.51 0 1.02-.2 1.41-.59l7.78-7.78 2.81-2.81c.8-.78.8-2.07 0-2.86zM5.41 20L4 18.59l7.72-7.72 1.47 1.35L5.41 20z\"/>\n",
              "  </svg>\n",
              "      </button>\n",
              "      \n",
              "  <style>\n",
              "    .colab-df-container {\n",
              "      display:flex;\n",
              "      flex-wrap:wrap;\n",
              "      gap: 12px;\n",
              "    }\n",
              "\n",
              "    .colab-df-convert {\n",
              "      background-color: #E8F0FE;\n",
              "      border: none;\n",
              "      border-radius: 50%;\n",
              "      cursor: pointer;\n",
              "      display: none;\n",
              "      fill: #1967D2;\n",
              "      height: 32px;\n",
              "      padding: 0 0 0 0;\n",
              "      width: 32px;\n",
              "    }\n",
              "\n",
              "    .colab-df-convert:hover {\n",
              "      background-color: #E2EBFA;\n",
              "      box-shadow: 0px 1px 2px rgba(60, 64, 67, 0.3), 0px 1px 3px 1px rgba(60, 64, 67, 0.15);\n",
              "      fill: #174EA6;\n",
              "    }\n",
              "\n",
              "    [theme=dark] .colab-df-convert {\n",
              "      background-color: #3B4455;\n",
              "      fill: #D2E3FC;\n",
              "    }\n",
              "\n",
              "    [theme=dark] .colab-df-convert:hover {\n",
              "      background-color: #434B5C;\n",
              "      box-shadow: 0px 1px 3px 1px rgba(0, 0, 0, 0.15);\n",
              "      filter: drop-shadow(0px 1px 2px rgba(0, 0, 0, 0.3));\n",
              "      fill: #FFFFFF;\n",
              "    }\n",
              "  </style>\n",
              "\n",
              "      <script>\n",
              "        const buttonEl =\n",
              "          document.querySelector('#df-a6b6d96b-c464-4f16-b1f6-fe6703bbeb0f button.colab-df-convert');\n",
              "        buttonEl.style.display =\n",
              "          google.colab.kernel.accessAllowed ? 'block' : 'none';\n",
              "\n",
              "        async function convertToInteractive(key) {\n",
              "          const element = document.querySelector('#df-a6b6d96b-c464-4f16-b1f6-fe6703bbeb0f');\n",
              "          const dataTable =\n",
              "            await google.colab.kernel.invokeFunction('convertToInteractive',\n",
              "                                                     [key], {});\n",
              "          if (!dataTable) return;\n",
              "\n",
              "          const docLinkHtml = 'Like what you see? Visit the ' +\n",
              "            '<a target=\"_blank\" href=https://colab.research.google.com/notebooks/data_table.ipynb>data table notebook</a>'\n",
              "            + ' to learn more about interactive tables.';\n",
              "          element.innerHTML = '';\n",
              "          dataTable['output_type'] = 'display_data';\n",
              "          await google.colab.output.renderOutput(dataTable, element);\n",
              "          const docLink = document.createElement('div');\n",
              "          docLink.innerHTML = docLinkHtml;\n",
              "          element.appendChild(docLink);\n",
              "        }\n",
              "      </script>\n",
              "    </div>\n",
              "  </div>\n",
              "  "
            ]
          },
          "metadata": {},
          "execution_count": 91
        }
      ]
    },
    {
      "cell_type": "markdown",
      "source": [
        "##### **Q3. `young` 그룹의 사망자의 비율을 반올림하여 소숫점 둘째 자리까지 쓰세요.**\n",
        "\n",
        "- **`.query()`**를 사용하여 `age` 컬럼의 데이터를 다음 세 그룹으로 나누어 차례대로 변수 `young`, `middle`, `old`에 저장합니다.\n",
        "  - `young`: 20세 미만 \n",
        "  - `middle`: 20세 이상 60세 미만\n",
        "  - `old`: 60세 이상 \n",
        "\n",
        "- **`.value_counts()`**의 `normalize` 파라미터를 설정하여 각 그룹별 `survived` 데이터 비율을 구하세요. "
      ],
      "metadata": {
        "id": "RQuOB0tgT9qY"
      }
    },
    {
      "cell_type": "code",
      "source": [
        "df = sns.load_dataset(\"titanic\")\n",
        "# df_all = df.query(\"age > 0\")\n",
        "df_young = df.query(\"age < 20\")\n",
        "# df_middle = df.query(\"(age >= 20) and (age < 60)\")\n",
        "# df_old = df.query(\"age >= 60\")\n",
        "\n",
        "# print(df_all.shape[0])\n",
        "# print(df_young.shape[0] + df_middle.shape[0] + df_old.shape[0])\n",
        "\n",
        "data = df_young['survived'].value_counts(normalize = True)\n",
        "print(f'{data[0]:.2f}')"
      ],
      "metadata": {
        "id": "l-GYzFzlZBr4",
        "colab": {
          "base_uri": "https://localhost:8080/"
        },
        "outputId": "41c6f55a-eeab-4630-8589-384816c29c85"
      },
      "execution_count": null,
      "outputs": [
        {
          "output_type": "stream",
          "name": "stdout",
          "text": [
            "0.52\n"
          ]
        }
      ]
    },
    {
      "cell_type": "markdown",
      "source": [
        "### **1-3. 데이터 시각화**"
      ],
      "metadata": {
        "id": "Grlpmrmlzoz2"
      }
    },
    {
      "cell_type": "markdown",
      "source": [
        "##### **Q4. bar 높이가 가장 높은 대상을 쓰세요.**\n",
        "\n",
        "- 생존 여부와 성별에 따른 평균 요금을 bar plot으로 나타냅니다. "
      ],
      "metadata": {
        "id": "wQSbCT43Vep2"
      }
    },
    {
      "cell_type": "code",
      "source": [
        "df_data = df.groupby(['survived', 'sex']).mean()['fare']\n",
        "df_data.plot(kind='bar', color=['red','blue'], title='', fontsize=15, alpha=0.4);"
      ],
      "metadata": {
        "id": "-BEkmGmGdD-R",
        "colab": {
          "base_uri": "https://localhost:8080/",
          "height": 352
        },
        "outputId": "fa824e9d-2f62-42fe-f874-2425b1b4e11a"
      },
      "execution_count": null,
      "outputs": [
        {
          "output_type": "display_data",
          "data": {
            "text/plain": [
              "<Figure size 432x288 with 1 Axes>"
            ],
            "image/png": "[encoded data removed]"
          },
          "metadata": {
            "needs_background": "light"
          }
        }
      ]
    },
    {
      "cell_type": "markdown",
      "source": [
        "# **🥇 도전과제**\n",
        "\n"
      ],
      "metadata": {
        "id": "UoQMe9rpeMuA"
      }
    },
    {
      "cell_type": "markdown",
      "source": [
        "## **Part 2. 시각화**"
      ],
      "metadata": {
        "id": "ZdeDiJh00oIn"
      }
    },
    {
      "cell_type": "markdown",
      "source": [
        "### **2-1. Categorical Variable의 시각화**"
      ],
      "metadata": {
        "id": "wSVuA31CBxO9"
      }
    },
    {
      "cell_type": "markdown",
      "source": [
        "##### **`survived`의 비율을 확인하세요.**\n",
        "\n",
        "- Matplotlib의 [`.pie`](https://matplotlib.org/stable/gallery/pie_and_polar_charts/pie_features.html)를 사용하여 `survived` 컬럼의 비율을 시각화해 봅니다.\n"
      ],
      "metadata": {
        "id": "NhdiCLjbzzt2"
      }
    },
    {
      "cell_type": "code",
      "source": [
        "import matplotlib.pyplot as plt\n",
        "\n",
        "df_surv_all = df.query(\"survived\")\n",
        "df_surv_0 = df.query(\"survived == 0\")\n",
        "df_surv_1 = df.query(\"survived == 1\")\n",
        "# print(df_surv_all.shape[0], df_surv_0.shape[0] + df_surv_1.shape[0])\n",
        "\n",
        "ratio = [df_surv_0.shape[0], df_surv_1.shape[0]]\n",
        "labels = ['live', 'dead']\n",
        "\n",
        "plt.pie(ratio, labels=labels, autopct='%.1f%%')\n",
        "plt.show()"
      ],
      "metadata": {
        "id": "M0Yrv-X0fakd",
        "colab": {
          "base_uri": "https://localhost:8080/",
          "height": 248
        },
        "outputId": "fcb3e978-23e5-4e94-c943-59cdf7ff8915"
      },
      "execution_count": null,
      "outputs": [
        {
          "output_type": "display_data",
          "data": {
            "text/plain": [
              "<Figure size 432x288 with 1 Axes>"
            ],
            "image/png": "[encoded data removed]"
          },
          "metadata": {}
        }
      ]
    },
    {
      "cell_type": "markdown",
      "source": [
        "##### **pclass의 도수를 확인하세요.**\n",
        "\n",
        "- Seaborn의 [`.countplot()`](https://seaborn.pydata.org/generated/seaborn.countplot.html)을 사용하여 `pclass` 컬럼의 도수를 시각해 봅니다. "
      ],
      "metadata": {
        "id": "eXj4VwAE1QF7"
      }
    },
    {
      "cell_type": "code",
      "source": [
        "# df\n",
        "sns.countplot(x=\"pclass\", data=df)\n",
        "plt.show()"
      ],
      "metadata": {
        "id": "xxdf_8kJf4qU",
        "colab": {
          "base_uri": "https://localhost:8080/",
          "height": 279
        },
        "outputId": "f8d30a9b-37d6-41c8-adfe-9190deb74b3d"
      },
      "execution_count": null,
      "outputs": [
        {
          "output_type": "display_data",
          "data": {
            "text/plain": [
              "<Figure size 432x288 with 1 Axes>"
            ],
            "image/png": "[encoded data removed]"
          },
          "metadata": {
            "needs_background": "light"
          }
        }
      ]
    },
    {
      "cell_type": "markdown",
      "source": [
        "### **2-2. Continuous variables의 시각화**"
      ],
      "metadata": {
        "id": "kUzQgs_8exzR"
      }
    },
    {
      "cell_type": "markdown",
      "source": [
        "##### **Age column을 histogram으로 나타내세요.**\n",
        "\n",
        "- Age column을 histogram으로 나타낼 때, np.arange(0, df.Age.max()+bin_size, bin_size) 에서 bin의 개수가 8이 되도록 bin_size 값을 설정하여 시각화해 보세요."
      ],
      "metadata": {
        "id": "7OpvmPiM2AMQ"
      }
    },
    {
      "cell_type": "code",
      "source": [
        "import numpy as np\n",
        "import pandas as pd\n",
        "\n",
        "df_data = df.groupby('age', as_index=False).count()\n",
        "# df.age.max()\n",
        "bin_size = 8\n",
        "bins = np.arange(0, df.age.max()+bin_size, 10)\n",
        "labels = [10, 20, 30, 40, 50, 60, 70, 80]\n",
        "\n",
        "# print(bins)\n",
        "# print(df_data)\n",
        "df_data['levels'] = pd.cut(x=df_data['age'], bins=bins, labels=labels)\n",
        "\n",
        "sns.countplot(x=\"levels\", data=df_data)\n",
        "plt.show()"
      ],
      "metadata": {
        "id": "ud_hJW3JfHDX",
        "colab": {
          "base_uri": "https://localhost:8080/",
          "height": 279
        },
        "outputId": "2a973f0f-cc7e-4109-883f-98f243347dc1"
      },
      "execution_count": 304,
      "outputs": [
        {
          "output_type": "display_data",
          "data": {
            "text/plain": [
              "<Figure size 432x288 with 1 Axes>"
            ],
            "image/png": "[encoded data removed]"
          },
          "metadata": {
            "needs_background": "light"
          }
        }
      ]
    }
  ]
}