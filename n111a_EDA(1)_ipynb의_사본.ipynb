{
  "nbformat": 4,
  "nbformat_minor": 0,
  "metadata": {
    "colab": {
      "provenance": [],
      "collapsed_sections": [
        "i0DT1hcYYDwo"
      ],
      "include_colab_link": true
    },
    "kernelspec": {
      "name": "python3",
      "display_name": "Python 3"
    },
    "language_info": {
      "name": "python"
    }
  },
  "cells": [
    {
      "cell_type": "markdown",
      "metadata": {
        "id": "view-in-github",
        "colab_type": "text"
      },
      "source": [
        "<a href=\"https://colab.research.google.com/github/leekangwoo/AIB-18-discussion/blob/main/n111a_EDA(1)_ipynb%EC%9D%98_%EC%82%AC%EB%B3%B8.ipynb\" target=\"_parent\"><img src=\"https://colab.research.google.com/assets/colab-badge.svg\" alt=\"Open In Colab\"/></a>"
      ]
    },
    {
      "cell_type": "markdown",
      "source": [
        "<img src='https://i.imgur.com/RDAD11M.png' width = '200' align = 'right'>\n",
        "\n",
        "## *DATA SCIENCE / SECTION 1 / SPRINT 1 / NOTE 1*\n",
        "\n",
        "---\n",
        "\n",
        "# 📝 Assignment\n",
        "\n"
      ],
      "metadata": {
        "id": "i0DT1hcYYDwo"
      }
    },
    {
      "cell_type": "markdown",
      "source": [
        "# **🌱 기본 과제**"
      ],
      "metadata": {
        "id": "Qi-M-IrHic8G"
      }
    },
    {
      "cell_type": "markdown",
      "source": [
        "## **Part 1. EDA**"
      ],
      "metadata": {
        "id": "v36HgcsF-47K"
      }
    },
    {
      "cell_type": "markdown",
      "source": [
        "### **1-1. 데이터셋 불러오기**\n",
        "\n",
        "우리는 이 과제를 통해 아래의 url에 존재하는 Travel.xlsx를 Pandas의 데이터프레임으로 가져와 데이터에서 의미를 도출하고자 합니다. \n",
        "- https://ds-lecture-data.s3.ap-northeast-2.amazonaws.com/stocks/Travel.xlsx\n",
        "\n",
        "유의해야 할 점은 데이터를 불러올때, 그 파일의 형태와 구조에 따라 올바르게 불러와야 한다는 점입니다. <br> \n",
        "\n",
        "우선, 이 파일은 `.csv` 형태가 아닌 `.xlsx` 파일 형태입니다. 그러므로 Pandas의 `read_csv` 메서드가 아닌 `read_excel` 메서드를 활용하여 데이터를 가져와야 합니다. 또한, 이 파일은 2개의 시트로 구성되어 있으며 시트명은 각각 `008770` , `035250` 입니다. <br>\n",
        "\n",
        "아래의 코드 Tip과 첨부된 링크를 활용하여 각 시트의 데이터가 다음 이미지와 같은 데이터프레임 형식을 갖도록 만드세요.\n",
        "\n",
        "<img src='https://i.imgur.com/G1rLOnh.png'>\n",
        "\n",
        "- `008770` 시트의 데이터는 **df1**으로, `035250` 시트의 데이터는 **df2**로 저장합니다.\n",
        "\n",
        "<br>\n",
        "\n",
        "> **💡 Tip**\n",
        "1. df = pd[.read_excel](https://pandas.pydata.org/docs/reference/api/pandas.read_excel.html)(url, sheet_name = 0)\n",
        "2. df = df[.T](https://pandas.pydata.org/pandas-docs/version/0.25.0/reference/api/pandas.DataFrame.T.html)\n",
        "3. df_columns = df1[.loc](https://stackoverflow.com/questions/31593201/how-are-iloc-and-loc-different)[0]\n",
        "4. df[.columns](https://stackoverflow.com/questions/31328861/python-pandas-replacing-header-with-top-row) = df_columns\n",
        "5. df = df[1:]\n"
      ],
      "metadata": {
        "id": "cu2Rrz1rzBQi"
      }
    },
    {
      "cell_type": "markdown",
      "source": [
        "##### **Q1. `df1`의 shape을 쓰세요.**"
      ],
      "metadata": {
        "id": "1hv3QYvBri5W"
      }
    },
    {
      "cell_type": "code",
      "source": [
        "8, 32"
      ],
      "metadata": {
        "id": "V_1ohj9dJnVc",
        "colab": {
          "base_uri": "https://localhost:8080/"
        },
        "outputId": "37e47be5-5776-49a0-e2e7-09c7f169f5f7"
      },
      "execution_count": null,
      "outputs": [
        {
          "output_type": "execute_result",
          "data": {
            "text/plain": [
              "(8, 32)"
            ]
          },
          "metadata": {},
          "execution_count": 7
        }
      ]
    },
    {
      "cell_type": "markdown",
      "source": [
        "##### **Q2. `df2`의 shape을 쓰세요.**"
      ],
      "metadata": {
        "id": "NkKYlC83uBR5"
      }
    },
    {
      "cell_type": "code",
      "source": [
        "8, 32"
      ],
      "metadata": {
        "id": "ruqWEg90u2nH"
      },
      "execution_count": null,
      "outputs": []
    },
    {
      "cell_type": "markdown",
      "source": [
        "### **1-2. 결측치 확인**\n",
        "\n",
        "- df1과 df2의 결측치를 확인하세요.\n",
        "  - 두 데이터 프레임의 결측치 확인 후, \n",
        "[.fillna()](https://pandas.pydata.org/docs/reference/api/pandas.DataFrame.fillna.html) 메서드를 활용하여 결측치를 0으로 대체하세요. <br>\n",
        "- 결측치 대체 후에 제대로 코드가 작동 하였는지 확인하도록 합니다."
      ],
      "metadata": {
        "id": "fM1Vf-wW_0wG"
      }
    },
    {
      "cell_type": "markdown",
      "source": [
        "##### **Q3. `df1`의 -1번째 column의 결측치는 모두 몇 개인지 구하세요.**\n",
        "\n"
      ],
      "metadata": {
        "id": "Pbu4djWOPQ9o"
      }
    },
    {
      "cell_type": "code",
      "source": [
        "4"
      ],
      "metadata": {
        "id": "pZyBOFsHROJX"
      },
      "execution_count": null,
      "outputs": []
    },
    {
      "cell_type": "markdown",
      "source": [
        "##### **Q4. `df2`의 -1번째 column의 결측치는 모두 몇 개인지 구하세요.**"
      ],
      "metadata": {
        "id": "03CTbBtZuMXw"
      }
    },
    {
      "cell_type": "code",
      "source": [
        "5"
      ],
      "metadata": {
        "id": "-JPmvtRKQfjs"
      },
      "execution_count": null,
      "outputs": []
    },
    {
      "cell_type": "markdown",
      "source": [
        "### **1-3. GitHub Pull Request**\n",
        "\n",
        "> 아래 **`🥇 도전과제`**를 풀 경우, 도전과제까지 모두 마친 후 이 문항을 마지막에 수행합니다. \n",
        "\n",
        "- 다음 링크를 통해 chrome에 **`open in colab`**을 설치합니다. <br>\n",
        "  https://chrome.google.com/webstore/detail/open-in-colab/iogfkhleblhcpcekbiedikdehleodpjo\n",
        "- colab에서 **`도구`** > **`설정`** > **`GitHub`** 으로 이동해 **`비공개 저장소 및 조직에 액세스`**에 체크합니다. <br>\n",
        "  https://colab.research.google.com/\n",
        "- 유어클래스의 **`[AIB] Archives`** > **`AI 부트캠프 DOCs`** > **`1. Colab 을 통한 Pull Request 과제제출`**을 참고하여 깃헙에 n111a를 PR합니다. <br>\n",
        "  https://urclass.codestates.com/content/a18a5115-f614-49ab-810a-87f5024c3297?playlist=2461\n",
        "- **`변경사항 설명 메세지`**에는 **`[n111a] 1차 제출`** 이라고 씁니다. "
      ],
      "metadata": {
        "id": "M0QZhu1Ty4MR"
      }
    },
    {
      "cell_type": "markdown",
      "source": [
        "# **🥇 도전 과제**\n",
        "\n"
      ],
      "metadata": {
        "id": "t3W7dILmy85G"
      }
    },
    {
      "cell_type": "markdown",
      "source": [
        "## **Part 2. Missing Value**\n",
        "\n"
      ],
      "metadata": {
        "id": "8dkfe4eXTg5j"
      }
    },
    {
      "cell_type": "markdown",
      "source": [
        "##### **자산총계의 결측치를 처리하세요.**\n",
        "앞선 문제에서는 결측치를 단순히 0으로 처리하였으나, 결측치를 처리하는 방법은 그 외에도 여러가지가 있습니다. <br>\n",
        "다양한 imputation 방법에 대해 알아보고, 그 중 mean imputation 방법을 사용하여 `자산총계`의 결측치를 처리해보세요."
      ],
      "metadata": {
        "id": "TYbIgAH0Fr3i"
      }
    },
    {
      "cell_type": "code",
      "source": [
        "from google.colab import drive\n",
        "import pandas as pd\n",
        "df = pd.read_excel('/content/drive/MyDrive/Travel.xlsx', sheet_name = 0)\n",
        "\n",
        "df = df.T\n",
        "df = df[1:]\n",
        "df[6].isnull().sum()\n"
      ],
      "metadata": {
        "id": "FAXcA5JwJ6P5",
        "colab": {
          "base_uri": "https://localhost:8080/"
        },
        "outputId": "0b21fb67-17d0-4ac1-b3db-850df1b61443"
      },
      "execution_count": 61,
      "outputs": [
        {
          "output_type": "execute_result",
          "data": {
            "text/plain": [
              "3"
            ]
          },
          "metadata": {},
          "execution_count": 61
        }
      ]
    },
    {
      "cell_type": "markdown",
      "source": [
        "## **Part 3.Feature Engineering**\n"
      ],
      "metadata": {
        "id": "x3aOxM08znng"
      }
    },
    {
      "cell_type": "markdown",
      "source": [
        "##### **`부채 비율 2` 라는 새로운 피쳐를 생성하세요.**\n",
        "\n",
        "> 부채 비율(%) = (부채총액 / 자본총액) x 100\n",
        "\n",
        "위의 공식을 활용하여 `부채 비율 2` 라는 column을 생성합니다. 그리고, 생성한 column과 기존 `부채 비율` column의 값이 동일한지 확인해봅니다."
      ],
      "metadata": {
        "id": "3gJ8__ZdtC2W"
      }
    },
    {
      "cell_type": "code",
      "source": [
        "import numpy as np\n",
        "df = pd.read_excel('/content/drive/MyDrive/Travel.xlsx', sheet_name = 0)\n",
        "df = df.T\n",
        "df1 = df[23]\n",
        "# df1['부채 비율 2'] = (df[8][1:] / df[9][1:]) * 100\n",
        "# print(df_2)\n",
        "df2['부채 비율 2'] = (df[8][1:] / df[9][1:]) * 100\n",
        "\n",
        "print(df2)\n",
        "\n",
        "# 미완성\n",
        "\n",
        "# df_2 = []\n",
        "# # df_2 = ['부채 비율 2']\n",
        "# df_3 = (df[8][1:] / df[9][1:]) * 100\n",
        "# df_2.append(df_3)\n",
        "# print(df_2)\n",
        "# new = np.repeat('부채 비율 2', df[8][1:] / df[7][1:] * 100)\n",
        "# new = np.repeat('부채 비율 2', df[8] / df[7] * 100)\n"
      ],
      "metadata": {
        "id": "VOqF6gB-pJeR",
        "colab": {
          "base_uri": "https://localhost:8080/"
        },
        "outputId": "45b5c219-09d7-4928-c1f7-e72aaa4ad46f"
      },
      "execution_count": 154,
      "outputs": [
        {
          "output_type": "stream",
          "name": "stdout",
          "text": [
            "2019/09\\n(IFRS연결)                                              324.457438\n",
            "2019/12\\n(IFRS연결)                                              283.599782\n",
            "2020/03\\n(IFRS연결)                                              296.274627\n",
            "2020/06\\n(IFRS연결)                                              330.432517\n",
            "2020/09\\n(IFRS연결)                                              343.761032\n",
            "2020/12(E)\\n(IFRS연결)                                           348.822062\n",
            "2021/03(E)\\n(IFRS연결)                                                  NaN\n",
            "2021/06(E)\\n(IFRS연결)                                                  NaN\n",
            "부채 비율 2                 2019/09\\n(IFRS연결)       324.457438\n",
            "2019/12\\n(I...\n",
            "dtype: object\n"
          ]
        }
      ]
    },
    {
      "cell_type": "markdown",
      "source": [
        "##### **`종목` 이라는 새로운 피쳐를 생성하세요.**\n",
        "\n",
        "**`.repeat()`**를 활용하여 새로운 `종목`이라는 새로운 column을 생성합니다.\n",
        "  - `df1`의 `종목` column에는 `008770` 문자열이 담기도록 합니다.  \n",
        "  - `df2`의 `종목` column에는 `035250` 문자열이 담기도록 합니다. \n",
        "\n",
        "각각의 데이터 프레임에 `종목`이라는 column을 만든 후, 최종적으로 두 데이터프레임 `df1`과 `df2`를 **`.append()`**를 활용하여 합쳐주도록 합니다."
      ],
      "metadata": {
        "id": "qCETmKmwttGS"
      }
    },
    {
      "cell_type": "code",
      "source": [
        "import pandas as pd\n",
        "df1 = pd.read_excel('/content/drive/MyDrive/Travel.xlsx', sheet_name = 0)\n",
        "df2 = pd.read_excel('/content/drive/MyDrive/Travel.xlsx', sheet_name = 1)\n",
        "\n",
        "df_008770 = np.repeat('008770', len(df1))\n",
        "df_035250 = np.repeat('035250', len(df2))\n",
        "\n",
        "df1['종목'] = df_008770\n",
        "df2['종목'] = df_035250\n",
        "\n",
        "if set(df1.columns) == set(df2.columns):\n",
        "  df = df1.append(df2, ignore_index = True)"
      ],
      "metadata": {
        "id": "8b8MmErjpLL7"
      },
      "execution_count": 145,
      "outputs": []
    }
  ]
}